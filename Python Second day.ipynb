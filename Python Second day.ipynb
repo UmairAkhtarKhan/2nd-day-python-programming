{
 "cells": [
  {
   "cell_type": "code",
   "execution_count": 38,
   "id": "2660ee81-cbfa-42c7-92da-8e1d33dce483",
   "metadata": {},
   "outputs": [
    {
     "name": "stdout",
     "output_type": "stream",
     "text": [
      "7\n",
      "abcefgh\n",
      "ABCEFGH\n",
      "abghkji\n",
      "banana\n",
      "abcefgh\n",
      "['asdf', 'fgh', 'eft']\n",
      "Intro to the python,python 123\n",
      "30\n",
      "          intro to the python,python 123          \n",
      "50\n",
      "4\n",
      "True\n",
      "13\n",
      "13\n",
      "False\n",
      "False\n",
      "True\n",
      "True\n",
      "False\n",
      "False\n",
      "False\n",
      "True\n",
      "INTRO TO THE PYTHON,PYTHON 123\n",
      "Intro To The Python,Python 123\n"
     ]
    }
   ],
   "source": [
    "# string method\n",
    "# strings are immuteable(means cannot changed)\n",
    "a='abcefgh'\n",
    "b='ABGHKJI'\n",
    "print(len(a))\n",
    "print(a)\n",
    "# convert string into upper case(but it will not create new string only convert old string and create copy into upper case)\n",
    "print(a.upper())\n",
    "# convert string into lower case(but it will not create new string only convert old string and create copy into lower case)\n",
    "print(b.lower())\n",
    "# convert string into replace(but it will not create new string only create copy of string and replace )\n",
    "print(a.replace('abcefgh','banana'))\n",
    "print(a)\n",
    "# split the string into different elements(but it will not create new string only create copy of string )\n",
    "# split the string according to white spaces into list\n",
    "c='asdf fgh eft'\n",
    "print(c.split(\" \"))\n",
    "# convert the first letter of string into capital(but it will not create new string only create copy of string )\n",
    "blog_heading='intro to the python,python 123'\n",
    "print(blog_heading.capitalize())\n",
    "# align the string into the center(but it will not create new string only create copy of string )\n",
    "print(len(blog_heading))\n",
    "print(blog_heading.center(50))\n",
    "# center function add extra spaces at the start of the string and align string in to the center\n",
    "print(len(blog_heading.center(50)))\n",
    "# count method count the word how many time in the string\n",
    "print(blog_heading.count('o'))\n",
    "# string ends with check the functions ends with specfic word if true return true if not return false\n",
    "print(blog_heading.endswith('to',2,8))\n",
    "#find method gives the first occurance of the string\n",
    "print(blog_heading.find('python'))\n",
    "# index method gives the simillar output to the find but one issue if the chracter or word not exist inex gives eror and find gives -1\n",
    "print(blog_heading.index('python'))\n",
    "# isalnum method gives true if string is alpha numeris 0-9,A-Z  puncations and other gives false\n",
    "print(blog_heading.isalnum())\n",
    "# isalpha method gives true if string is alpha A-Z ,a-z gives true puncations and numbers other gives false\n",
    "print(blog_heading.isalpha())\n",
    "# islower method gives true if string is lower a-z gives true  other gives false\n",
    "print(blog_heading.islower())\n",
    "# ispintable method gives true if string the all the elements of strings are printable other gives false\n",
    "print(blog_heading.isprintable())\n",
    "# isspace method gives true if string have white spaces  gives true if not gives false\n",
    "print(blog_heading.isspace())\n",
    "# istitle method gives true if string all the starting character is capitalize  gives true if not gives false\n",
    "print(blog_heading.istitle())\n",
    "# isupper method gives true if string is upper A-Z gives true  other gives false\n",
    "print(blog_heading.isupper())\n",
    "# string starts with check the functions starts with specfic word if true return true if not return false\n",
    "print(blog_heading.startswith('t',2,8))\n",
    "# swapcase convert uppercase to lower case and lowercase to upper case and uppercase to lower case\n",
    "print(blog_heading.swapcase())\n",
    "# swapcase convert all the words first letter to uppercase \n",
    "print(blog_heading.title())\n",
    "\n",
    "\n",
    "\n",
    "\n",
    "\n",
    "\n",
    "\n"
   ]
  },
  {
   "cell_type": "code",
   "execution_count": 39,
   "id": "9cfd621b-ecdf-4ebb-9dd2-2d38639d1ae6",
   "metadata": {},
   "outputs": [
    {
     "name": "stdin",
     "output_type": "stream",
     "text": [
      "Enter Your Age :  12\n"
     ]
    },
    {
     "name": "stdout",
     "output_type": "stream",
     "text": [
      "You are not eligible for Driving\n"
     ]
    }
   ],
   "source": [
    "# if else condition\n",
    "# conditional operators > ,< ,>=, <= ,==\n",
    "age=int(input(\"Enter Your Age : \"))\n",
    "if age>18:\n",
    "    print(\"You are eligible for Driving\")\n",
    "else:\n",
    "    print(\"You are not eligible for Driving\")\n",
    "    \n"
   ]
  },
  {
   "cell_type": "code",
   "execution_count": 48,
   "id": "e8fa0bda-7940-4088-827d-a0ba796f6948",
   "metadata": {},
   "outputs": [
    {
     "ename": "KeyboardInterrupt",
     "evalue": "Interrupted by user",
     "output_type": "error",
     "traceback": [
      "\u001b[1;31m---------------------------------------------------------------------------\u001b[0m",
      "\u001b[1;31mKeyboardInterrupt\u001b[0m                         Traceback (most recent call last)",
      "Cell \u001b[1;32mIn[48], line 2\u001b[0m\n\u001b[0;32m      1\u001b[0m \u001b[38;5;66;03m# elif statment\u001b[39;00m\n\u001b[1;32m----> 2\u001b[0m num\u001b[38;5;241m=\u001b[39m\u001b[38;5;28mint\u001b[39m(\u001b[38;5;28minput\u001b[39m(\u001b[38;5;124m'\u001b[39m\u001b[38;5;124menter the num value : \u001b[39m\u001b[38;5;124m'\u001b[39m))\n\u001b[0;32m      3\u001b[0m \u001b[38;5;28;01mif\u001b[39;00m num\u001b[38;5;241m<\u001b[39m\u001b[38;5;241m0\u001b[39m:\n\u001b[0;32m      4\u001b[0m     \u001b[38;5;28mprint\u001b[39m(\u001b[38;5;124m\"\u001b[39m\u001b[38;5;124m num value is negative \u001b[39m\u001b[38;5;124m\"\u001b[39m)\n",
      "File \u001b[1;32m~\\anaconda3\\Lib\\site-packages\\ipykernel\\kernelbase.py:1262\u001b[0m, in \u001b[0;36mKernel.raw_input\u001b[1;34m(self, prompt)\u001b[0m\n\u001b[0;32m   1260\u001b[0m     msg \u001b[38;5;241m=\u001b[39m \u001b[38;5;124m\"\u001b[39m\u001b[38;5;124mraw_input was called, but this frontend does not support input requests.\u001b[39m\u001b[38;5;124m\"\u001b[39m\n\u001b[0;32m   1261\u001b[0m     \u001b[38;5;28;01mraise\u001b[39;00m StdinNotImplementedError(msg)\n\u001b[1;32m-> 1262\u001b[0m \u001b[38;5;28;01mreturn\u001b[39;00m \u001b[38;5;28mself\u001b[39m\u001b[38;5;241m.\u001b[39m_input_request(\n\u001b[0;32m   1263\u001b[0m     \u001b[38;5;28mstr\u001b[39m(prompt),\n\u001b[0;32m   1264\u001b[0m     \u001b[38;5;28mself\u001b[39m\u001b[38;5;241m.\u001b[39m_parent_ident[\u001b[38;5;124m\"\u001b[39m\u001b[38;5;124mshell\u001b[39m\u001b[38;5;124m\"\u001b[39m],\n\u001b[0;32m   1265\u001b[0m     \u001b[38;5;28mself\u001b[39m\u001b[38;5;241m.\u001b[39mget_parent(\u001b[38;5;124m\"\u001b[39m\u001b[38;5;124mshell\u001b[39m\u001b[38;5;124m\"\u001b[39m),\n\u001b[0;32m   1266\u001b[0m     password\u001b[38;5;241m=\u001b[39m\u001b[38;5;28;01mFalse\u001b[39;00m,\n\u001b[0;32m   1267\u001b[0m )\n",
      "File \u001b[1;32m~\\anaconda3\\Lib\\site-packages\\ipykernel\\kernelbase.py:1305\u001b[0m, in \u001b[0;36mKernel._input_request\u001b[1;34m(self, prompt, ident, parent, password)\u001b[0m\n\u001b[0;32m   1302\u001b[0m \u001b[38;5;28;01mexcept\u001b[39;00m \u001b[38;5;167;01mKeyboardInterrupt\u001b[39;00m:\n\u001b[0;32m   1303\u001b[0m     \u001b[38;5;66;03m# re-raise KeyboardInterrupt, to truncate traceback\u001b[39;00m\n\u001b[0;32m   1304\u001b[0m     msg \u001b[38;5;241m=\u001b[39m \u001b[38;5;124m\"\u001b[39m\u001b[38;5;124mInterrupted by user\u001b[39m\u001b[38;5;124m\"\u001b[39m\n\u001b[1;32m-> 1305\u001b[0m     \u001b[38;5;28;01mraise\u001b[39;00m \u001b[38;5;167;01mKeyboardInterrupt\u001b[39;00m(msg) \u001b[38;5;28;01mfrom\u001b[39;00m \u001b[38;5;28;01mNone\u001b[39;00m\n\u001b[0;32m   1306\u001b[0m \u001b[38;5;28;01mexcept\u001b[39;00m \u001b[38;5;167;01mException\u001b[39;00m:\n\u001b[0;32m   1307\u001b[0m     \u001b[38;5;28mself\u001b[39m\u001b[38;5;241m.\u001b[39mlog\u001b[38;5;241m.\u001b[39mwarning(\u001b[38;5;124m\"\u001b[39m\u001b[38;5;124mInvalid Message:\u001b[39m\u001b[38;5;124m\"\u001b[39m, exc_info\u001b[38;5;241m=\u001b[39m\u001b[38;5;28;01mTrue\u001b[39;00m)\n",
      "\u001b[1;31mKeyboardInterrupt\u001b[0m: Interrupted by user"
     ]
    }
   ],
   "source": [
    "# elif statment\n",
    "num=int(input('enter the num value : '))\n",
    "if num<0:\n",
    "    print(\" num value is negative \")\n",
    "elif num==0:\n",
    "    print('num value is zero')\n",
    "elif num==999:\n",
    "    print('num value is special number')\n",
    "else:\n",
    "    print('num value is positive')\n",
    "    \n",
    "    \n",
    "    "
   ]
  },
  {
   "cell_type": "code",
   "execution_count": 45,
   "id": "11de226c-bf06-415c-8c54-4f53c6afa405",
   "metadata": {},
   "outputs": [
    {
     "name": "stdin",
     "output_type": "stream",
     "text": [
      "enter the num value :  233\n"
     ]
    },
    {
     "name": "stdout",
     "output_type": "stream",
     "text": [
      "num value is greater than 50\n"
     ]
    }
   ],
   "source": [
    "# nested if else statment\n",
    "num1=int(input('enter the num value : '))\n",
    "if num1<0:\n",
    "    print(\" num value is negative \")\n",
    "elif num1>0 and num1<=50:\n",
    "    if num1<=10:\n",
    "        print(\"num value between 1 to 10\")\n",
    "    elif num1 >=10 and num1<=20 :\n",
    "        print(\"num value between 11 to 20 \")\n",
    "    elif num1 >=20 and num1<=50:\n",
    "        print(\"num value between 20 to 50\")\n",
    "elif num1 == 0:\n",
    "    print('num value is zero')        \n",
    "else:\n",
    "    print('num value is greater than 50')\n"
   ]
  },
  {
   "cell_type": "code",
   "execution_count": 51,
   "id": "13bf59a6-3ab5-432c-80ff-8266ddff5b23",
   "metadata": {},
   "outputs": [
    {
     "name": "stdin",
     "output_type": "stream",
     "text": [
      "enter you name Jack\n"
     ]
    },
    {
     "name": "stdout",
     "output_type": "stream",
     "text": [
      "good night Jack\n"
     ]
    }
   ],
   "source": [
    "# exercise create code which greet to the person good morning goo after noon and goo night according to time\n",
    "import time\n",
    "name=input('enter you name')\n",
    "times=int(time.strftime('%H'))\n",
    "if times>=4 and times<=12:\n",
    "    print(\"Good Morning\",name)\n",
    "elif times>=12 and times<=17:\n",
    "    print(\"Good evening\",name)\n",
    "else:\n",
    "    print('good night',name)\n",
    "    \n"
   ]
  },
  {
   "cell_type": "code",
   "execution_count": null,
   "id": "8d1ef6e6-0593-4e0d-9a72-2562777715e3",
   "metadata": {},
   "outputs": [],
   "source": []
  }
 ],
 "metadata": {
  "kernelspec": {
   "display_name": "Python 3 (ipykernel)",
   "language": "python",
   "name": "python3"
  },
  "language_info": {
   "codemirror_mode": {
    "name": "ipython",
    "version": 3
   },
   "file_extension": ".py",
   "mimetype": "text/x-python",
   "name": "python",
   "nbconvert_exporter": "python",
   "pygments_lexer": "ipython3",
   "version": "3.11.7"
  }
 },
 "nbformat": 4,
 "nbformat_minor": 5
}
